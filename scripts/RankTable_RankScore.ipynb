{
 "cells": [
  {
   "cell_type": "markdown",
   "metadata": {},
   "source": [
    "<h4> NOTE </h4> \n",
    "All queries which don't have results (such as Q7 and Q9 in PT schema) should has 0 instead of \"N/A\" in the log files"
   ]
  },
  {
   "cell_type": "markdown",
   "metadata": {},
   "source": [
    "<h3> Create rank table for storage formats </h3>\n",
    "\n",
    "1. Copy the results from the tables with title \"RESULTS FOR STORAGE FORMATS COMPARISON\" into the \"results.xlsx\" excel file\n",
    "2. Delete values which are 0 (for example Q7 and Q9 in PT schema)\n",
    "2. Run the code, and ranking results are saved on \"rankings.xlsx\" excel file\n",
    "3. Copy the rankings from \"rankings.xlsx\" into the according table in \"Rank tables\" excel file."
   ]
  },
  {
   "cell_type": "code",
   "execution_count": 46,
   "metadata": {},
   "outputs": [],
   "source": [
    "import scipy.stats as ss\n",
    "import pandas as pd\n",
    "import numpy as np\n",
    "\n",
    "df = pd.read_excel(\"C:\\\\Users\\\\Sadiq\\\\Desktop\\\\results.xlsx\", header = None)\n",
    "print(\"Original data \\n\", df, \"\\n\")\n",
    "\n",
    "\n",
    "df_ranks = []\n",
    "for index, row in df.iterrows():\n",
    "    df_ranks.append(ss.rankdata(row))\n",
    "\n",
    "df_ranks = pd.DataFrame(df_ranks)\n",
    "print(\"Ranks \\n\", df_ranks, \"\\n\")\n",
    "\n",
    "df_transpose = df_ranks.transpose()\n",
    "print(\"Transposed Ranks \\n\", df_transpose, \"\\n\")\n",
    "\n",
    "rank_table = []\n",
    "for index, row in df_transpose.iterrows():\n",
    "    \n",
    "    result_row = np.zeros(5)  \n",
    "    for i in range(len(row)):\n",
    "        result_row[int(row[i])-1] +=1\n",
    "    rank_table.append(result_row)\n",
    "    \n",
    "rank_table = pd.DataFrame(rank_table)\n",
    "print(\"Rank Table \\n\", rank_table)\n",
    "\n",
    "rank_table.to_excel(\"C:\\\\Users\\\\Sadiq\\\\Desktop\\\\rankings.xlsx\")"
   ]
  },
  {
   "cell_type": "markdown",
   "metadata": {},
   "source": [
    "<h3> Compute ranking scores for Storage formats </h3>\n",
    "\n",
    "1. Run code to calculate Rank Scores for the results which are created after the \"Create rank table for storage formats\".\n",
    "2. According to the formula, t is 5, b is 11 (b will be 9 for PT schema as there are only 9 queries)\n",
    "3. Take the results and copy into the according table in \"Rank Scores\" excel file"
   ]
  },
  {
   "cell_type": "code",
   "execution_count": 7,
   "metadata": {},
   "outputs": [],
   "source": [
    "import pandas as pd\n",
    "\n",
    "df = pd.read_excel(\"C:\\\\Users\\\\Sadiq\\\\Desktop\\\\rankings.xlsx\", header = None)\n",
    "df = df.drop(0)\n",
    "df = df.drop(0, axis = 1)\n",
    "print(\"Rank Table \\n\", df.head(), \"\\n\")\n",
    "\n",
    "# b=9\n",
    "b=11         #total number of queries\n",
    "t=5          #number of file formats\n",
    "             #r is a rank number 1<=r<=t\n",
    "\n",
    "df_list = [\"avro\", \"csv\", \"orc\", \"parq.\", \"hive\"]\n",
    "print(\"Rank Scores \\n\")\n",
    "\n",
    "for index, row in df.iterrows():\n",
    "    s = 0\n",
    "    for r in range(t):  \n",
    "        s = s + ( row[r+1]*(t-(r+1)) / (b*(t-1)) )\n",
    "#         print(r+1, \"-\", row[r], \"-\", t-(r+1), \"-\", b, \"-\", t-1  )\n",
    "#     print()\n",
    "#     print()        \n",
    "    print(df_list[index-1], \"\\t\", s)"
   ]
  },
  {
   "cell_type": "markdown",
   "metadata": {},
   "source": [
    "<h3> Create rank table for Partitioning techniques </h3>\n",
    "\n",
    "1. Copy the results from the tables with title \"RESULTS FOR PARTITIONING TECHNIQUES COMPARISON\" into the \"results.xlsx\" excel file\n",
    "2. Delete values which are 0 (for example Q7 and Q9 in PT schema)\n",
    "2. Run the code, and results are saved on \"rankings.xlsx\" excel file\n",
    "3. Copy the rankings from \"rankings.xlsx\" into the according table in \"Rank tables\" excel file."
   ]
  },
  {
   "cell_type": "code",
   "execution_count": 44,
   "metadata": {},
   "outputs": [],
   "source": [
    "import scipy.stats as ss\n",
    "import pandas as pd\n",
    "import numpy as np\n",
    "\n",
    "df = pd.read_excel(\"C:\\\\Users\\\\Sadiq\\\\Desktop\\\\results.xlsx\", header = None)\n",
    "print(\"Original data \\n\", df, \"\\n\")\n",
    "\n",
    "df_ranks = []\n",
    "for index, row in df.iterrows():\n",
    "    df_ranks.append(ss.rankdata(row))\n",
    "\n",
    "df_ranks = pd.DataFrame(df_ranks)\n",
    "print(\"Ranks \\n\", df_ranks, \"\\n\")\n",
    "\n",
    "df_transpose = df_ranks.transpose()\n",
    "print(\"Transposed Ranks \\n\", df_transpose, \"\\n\")\n",
    "\n",
    "rank_table = []\n",
    "for index, row in df_transpose.iterrows():\n",
    "    \n",
    "    result_row = np.zeros(3)  \n",
    "    for i in range(len(row)):\n",
    "        result_row[int(row[i])-1] +=1\n",
    "    rank_table.append(result_row)\n",
    "    \n",
    "rank_table = pd.DataFrame(rank_table)\n",
    "print(\"Rank Table \\n\", rank_table)\n",
    "\n",
    "rank_table.to_excel(\"C:\\\\Users\\\\Sadiq\\\\Desktop\\\\rankings.xlsx\")"
   ]
  },
  {
   "cell_type": "markdown",
   "metadata": {},
   "source": [
    "<h3> Compute ranking scores for Partitioning Techniques </h3>\n",
    "\n",
    "1. Run code to calculate Rank Scores for the results which are created after the \"Create rank table for partitioning techniques\".\n",
    "2. According to the formula, t is 3, b is 11 (b will be 9 for PT schema as there are only 9 queries)\n",
    "3. Take the results and copy into the according table in \"Rank Scores\" excel file"
   ]
  },
  {
   "cell_type": "code",
   "execution_count": 16,
   "metadata": {},
   "outputs": [],
   "source": [
    "import pandas as pd\n",
    "\n",
    "df = pd.read_excel(\"C:\\\\Users\\\\Sadiq\\\\Desktop\\\\rankings.xlsx\", header = None)\n",
    "df = df.drop(0)\n",
    "df = df.drop(0, axis = 1)\n",
    "print(\"Rank Table \\n\", df.head(), \"\\n\")\n",
    "\n",
    "# b=9\n",
    "b=11         #total number benchmark execurions\n",
    "t=3          #number of file formats\n",
    "             #r is a rank number 1<=r<=t\n",
    "    \n",
    "df_list = [\"HP\", \"SBP\", \"PBP\" ]\n",
    "print(\"Rank Scores \\n\")\n",
    "\n",
    "for index, row in df.iterrows():\n",
    "    s = 0\n",
    "    for r in range(t):  \n",
    "        s = s + ( row[r+1]*(t-(r+1)) / (b*(t-1)) )\n",
    "        \n",
    "    print(df_list[index-1], \"\\t\", s)"
   ]
  },
  {
   "cell_type": "markdown",
   "metadata": {},
   "source": [
    "<h3> Create rank table for relational schemas </h3>\n",
    "\n",
    "1. Copy the results from the tables with title \"RESULTS FOR Relational Schema COMPARISON\" into the \"results.xlsx\" excel file\n",
    "2. Delete values which are 0 (for example Q7 and Q9 in PT schema)\n",
    "2. Run the code, and results are saved on \"rankings.xlsx\" excel file\n",
    "3. Copy the rankings from \"rankings.xlsx\" into the according table in \"Rank tables\" excel file."
   ]
  },
  {
   "cell_type": "code",
   "execution_count": 4,
   "metadata": {},
   "outputs": [],
   "source": [
    "import scipy.stats as ss\n",
    "import pandas as pd\n",
    "import numpy as np\n",
    "\n",
    "df = pd.read_excel(\"C:\\\\Users\\\\Sadiq\\\\Desktop\\\\results.xlsx\", header = None)\n",
    "print(\"Original data \\n\", df, \"\\n\")\n",
    "\n",
    "df_ranks = []\n",
    "for index, row in df.iterrows():\n",
    "    df_ranks.append(ss.rankdata(row))\n",
    "\n",
    "df_ranks = pd.DataFrame(df_ranks)\n",
    "print(\"Ranks \\n\", df_ranks, \"\\n\")\n",
    "\n",
    "df_transpose = df_ranks.transpose()\n",
    "print(\"Transposed Ranks \\n\", df_transpose, \"\\n\")\n",
    "\n",
    "rank_table = []\n",
    "for index, row in df_transpose.iterrows():\n",
    "    \n",
    "    result_row = np.zeros(3)\n",
    "    for i in range(len(row)):\n",
    "        result_row[int(row[i])-1] +=1\n",
    "    rank_table.append(result_row)\n",
    "    \n",
    "rank_table = pd.DataFrame(rank_table)\n",
    "print(\"Rank Table \\n\", rank_table, \"\\n\")\n",
    "\n",
    "if rank_table[2][2] <= 2:\n",
    "    rank_table[2][2] = 0\n",
    "else:\n",
    "    rank_table[2][2] = rank_table[2][2]-2\n",
    "\n",
    "print(\"Rank Table Modified \\n\", rank_table)    \n",
    "rank_table.to_excel(\"C:\\\\Users\\\\Sadiq\\\\Desktop\\\\rankings.xlsx\")"
   ]
  },
  {
   "cell_type": "markdown",
   "metadata": {},
   "source": [
    "<h3> Compute ranking scores for Relational Schemas </h3>\n",
    "\n",
    "1. Run code to calculate Rank Scores for the results which are created after the \"Create rank table for Relational Schemas\".\n",
    "2. According to the formula, t is 3, b is 11 (b is 9 for PT schema as there are only 9 queries)\n",
    "3. Take the results and copy into the according table in \"Rank Scores\" excel file"
   ]
  },
  {
   "cell_type": "code",
   "execution_count": 47,
   "metadata": {},
   "outputs": [],
   "source": [
    "import pandas as pd\n",
    "\n",
    "df = pd.read_excel(\"C:\\\\Users\\\\Sadiq\\\\Desktop\\\\rankings.xlsx\", header = None)\n",
    "df = df.drop(0)\n",
    "df = df.drop(0, axis = 1)\n",
    "print(\"Rank Table \\n\", df.head(), \"\\n\")\n",
    "\n",
    "b=11         #total number of queries\n",
    "t=3          #number of schemas\n",
    "             #r is a rank number 1<=r<=t\n",
    "\n",
    "df_list = [\"ST\", \"VT\", \"PT\"]\n",
    "print(\"Rank Scores \\n\")\n",
    "for index, row in df.iterrows():\n",
    "    \n",
    "#     if index==3:\n",
    "#         b=9\n",
    "#     else:\n",
    "#         b=11\n",
    "    \n",
    "    s = 0\n",
    "    for r in range(t):\n",
    "        s = s + ( row[r+1]*(t-(r+1)) / (b*(t-1)) )\n",
    "        \n",
    "    print(df_list[index-1], \"\\t\", s)"
   ]
  },
  {
   "cell_type": "code",
   "execution_count": null,
   "metadata": {},
   "outputs": [],
   "source": []
  },
  {
   "cell_type": "markdown",
   "metadata": {},
   "source": [
    "<h3> Create rank table for configurations </h3>"
   ]
  },
  {
   "cell_type": "code",
   "execution_count": 63,
   "metadata": {},
   "outputs": [],
   "source": [
    "import scipy.stats as ss\n",
    "import pandas as pd\n",
    "import numpy as np\n",
    "\n",
    "df = pd.read_excel(\"C:\\\\Users\\\\Sadiq\\\\Desktop\\\\results.xlsx\", header = None)\n",
    "print(\"Original data \\n\", df, \"\\n\")\n",
    "\n",
    "df_ranks = []\n",
    "for index, row in df.iterrows():\n",
    "    df_ranks.append(ss.rankdata(row))\n",
    "\n",
    "df_ranks = pd.DataFrame(df_ranks)\n",
    "print(\"Ranks \\n\", df_ranks, \"\\n\")\n",
    "\n",
    "df_transpose = df_ranks.transpose()\n",
    "df_transpose[6][30:] = 31\n",
    "df_transpose[8][30:] = 31\n",
    "print(\"Transposed Ranks \\n\", df_transpose, \"\\n\")\n",
    "\n",
    "rank_table = []\n",
    "for index, row in df_transpose.iterrows():\n",
    "    \n",
    "    result_row = np.zeros(45)  \n",
    "    for i in range(len(row)):\n",
    "        result_row[int(row[i])-1] +=1\n",
    "    rank_table.append(result_row)\n",
    "    \n",
    "rank_table = pd.DataFrame(rank_table)\n",
    "rank_table[30][30:] = rank_table[30][30:] - 2\n",
    "print(\"Rank Table \\n\", rank_table)\n",
    "\n",
    "rank_table.to_excel(\"C:\\\\Users\\\\Sadiq\\\\Desktop\\\\rankings.xlsx\")"
   ]
  },
  {
   "cell_type": "markdown",
   "metadata": {},
   "source": [
    "<h3> Compute ranking scores for Configurations </h3>"
   ]
  },
  {
   "cell_type": "code",
   "execution_count": 62,
   "metadata": {},
   "outputs": [],
   "source": [
    "import pandas as pd\n",
    "\n",
    "df = pd.read_excel(\"C:\\\\Users\\\\Sadiq\\\\Desktop\\\\rankings.xlsx\", header = None)\n",
    "df = df.drop(0)\n",
    "df = df.drop(0, axis = 1)\n",
    "print(\"Rank Table \\n\", df.head(), \"\\n\")\n",
    "\n",
    "b=11         #total number of queries\n",
    "t=45          #number of schemas\n",
    "             #r is a rank number 1<=r<=t\n",
    "\n",
    "\n",
    "# df_list = [\"ST\", \"VT\", \"PT\"]\n",
    "print(\"Rank Scores \\n\")\n",
    "for index, row in df.iterrows():\n",
    "    \n",
    "#     if index>=31:\n",
    "#         b=9\n",
    "#     else:\n",
    "#         b=11    \n",
    "    s = 0\n",
    "    for r in range(t):\n",
    "        s = s + ( row[r+1]*(t-(r+1)) / (b*(t-1)) )\n",
    "        \n",
    "    print(index, \"\\t\", s)"
   ]
  }
 ],
 "metadata": {
  "kernelspec": {
   "display_name": "Python 3",
   "language": "python",
   "name": "python3"
  },
  "language_info": {
   "codemirror_mode": {
    "name": "ipython",
    "version": 3
   },
   "file_extension": ".py",
   "mimetype": "text/x-python",
   "name": "python",
   "nbconvert_exporter": "python",
   "pygments_lexer": "ipython3",
   "version": "3.7.3"
  }
 },
 "nbformat": 4,
 "nbformat_minor": 2
}
